{
  "nbformat": 4,
  "nbformat_minor": 0,
  "metadata": {
    "colab": {
      "name": "SN_project_1_saving_graph.ipynb",
      "provenance": [],
      "collapsed_sections": [],
      "toc_visible": true,
      "authorship_tag": "ABX9TyPhwB3oi91exG+444XsaTxS",
      "include_colab_link": true
    },
    "kernelspec": {
      "name": "python3",
      "display_name": "Python 3"
    },
    "language_info": {
      "name": "python"
    }
  },
  "cells": [
    {
      "cell_type": "markdown",
      "metadata": {
        "id": "view-in-github",
        "colab_type": "text"
      },
      "source": [
        "<a href=\"https://colab.research.google.com/github/upayuryeva/Social-Network-Analysis-Project/blob/main/SN_project_collect_data.ipynb\" target=\"_parent\"><img src=\"https://colab.research.google.com/assets/colab-badge.svg\" alt=\"Open In Colab\"/></a>"
      ]
    },
    {
      "cell_type": "markdown",
      "metadata": {
        "id": "YUYfm4cCSYd7"
      },
      "source": [
        "<center><h1>Social Network Analysis Project\n",
        "<center><h3>Irina Yuryeva"
      ]
    },
    {
      "cell_type": "markdown",
      "metadata": {
        "id": "D0_aIc4IHJPb"
      },
      "source": [
        "Friend list was collected from my vk page: [Ira Yuryeva](https://vk.com/upayuryeva)"
      ]
    },
    {
      "cell_type": "markdown",
      "metadata": {
        "id": "dU0gwYPTTwAs"
      },
      "source": [
        "#Collect data from VK "
      ]
    },
    {
      "cell_type": "code",
      "metadata": {
        "colab": {
          "base_uri": "https://localhost:8080/"
        },
        "id": "G61sLVeaSHxq",
        "outputId": "5b77d629-926f-4aa0-9495-5534455f14fe"
      },
      "source": [
        "!pip install vk_api\n",
        "import vk_api"
      ],
      "execution_count": null,
      "outputs": [
        {
          "output_type": "stream",
          "text": [
            "Requirement already satisfied: vk_api in /usr/local/lib/python3.7/dist-packages (11.9.1)\n",
            "Requirement already satisfied: six in /usr/local/lib/python3.7/dist-packages (from vk_api) (1.15.0)\n",
            "Requirement already satisfied: requests in /usr/local/lib/python3.7/dist-packages (from vk_api) (2.23.0)\n",
            "Requirement already satisfied: certifi>=2017.4.17 in /usr/local/lib/python3.7/dist-packages (from requests->vk_api) (2020.12.5)\n",
            "Requirement already satisfied: chardet<4,>=3.0.2 in /usr/local/lib/python3.7/dist-packages (from requests->vk_api) (3.0.4)\n",
            "Requirement already satisfied: idna<3,>=2.5 in /usr/local/lib/python3.7/dist-packages (from requests->vk_api) (2.10)\n",
            "Requirement already satisfied: urllib3!=1.25.0,!=1.25.1,<1.26,>=1.21.1 in /usr/local/lib/python3.7/dist-packages (from requests->vk_api) (1.24.3)\n"
          ],
          "name": "stdout"
        }
      ]
    },
    {
      "cell_type": "code",
      "metadata": {
        "id": "H5F-bxxGVUPj"
      },
      "source": [
        "def auth_handler():\n",
        "    \"\"\" Function for accounts with two factor authentication \n",
        "    \"\"\"\n",
        "\n",
        "    # Two factor authentication code\n",
        "    key = input(\"Enter authentication code: \")\n",
        "    remember_device = True\n",
        "\n",
        "    return key, remember_device"
      ],
      "execution_count": null,
      "outputs": []
    },
    {
      "cell_type": "code",
      "metadata": {
        "id": "U-J1qm9tT48b"
      },
      "source": [
        "email = 'YOUR EMAIL OR PHONE NUMBER'\n",
        "password = 'YOUR PASSWORD'\n",
        "vk_session = vk_api.VkApi(email, password, auth_handler=auth_handler)\n",
        "vk_session.auth()\n",
        "\n",
        "vk = vk_session.get_api()"
      ],
      "execution_count": null,
      "outputs": []
    },
    {
      "cell_type": "markdown",
      "metadata": {
        "id": "-ImQ_QlZQ2D3"
      },
      "source": [
        "Collecting my friends list"
      ]
    },
    {
      "cell_type": "code",
      "metadata": {
        "id": "MrMh7vf0H_bF"
      },
      "source": [
        "def get_friends_list(user_id=None,\n",
        "                    fields_to_return=['sex', 'country','education','city', 'bdate']):\n",
        "  \n",
        "    \"\"\"\n",
        "    Gets friends list with specific fields, removes deleted pages \n",
        "    and selects and changes only important fields to make more readable\n",
        "    dictionaries of information of every friend\n",
        "\n",
        "    Parameters\n",
        "    ----------\n",
        "      user_id: int\n",
        "\n",
        "      fields_to_return: list of strs\n",
        "        Profile fields to return. \n",
        "        Sample values: nickname, domain, sex, bdate, city, country, timezone, \n",
        "        photo_50, photo_100, photo_200_orig, has_mobile, contacts, education, \n",
        "        online, relation, last_seen, status, can_write_private_message, \n",
        "        can_see_all_posts, can_post, universities. \n",
        "\n",
        "    Returns\n",
        "    -------\n",
        "      list of dicts of information about friends\n",
        "    \"\"\"\n",
        "\n",
        "    #collect friends list\n",
        "    raw_list = vk.friends.get(user_id=user_id, fields=fields_to_return)\n",
        "    \n",
        "    #friends list preparation\n",
        "    friends_list = []\n",
        "\n",
        "    for friend in raw_list['items']:\n",
        "      if friend.get('deactivated') != 'deleted':\n",
        "        friend_new = {}\n",
        "\n",
        "        if friend['sex'] == 1:\n",
        "          sex = 'ж'\n",
        "        else:\n",
        "          sex = 'м'\n",
        "\n",
        "        bdate = friend.get('bdate', '')\n",
        "        if len(bdate) > 6:\n",
        "          byear = bdate[len(bdate)-4:]\n",
        "        else:\n",
        "          byear = ''\n",
        "\n",
        "        friend_new.update({'name' : friend['first_name'] + ' ' + friend['last_name'],\n",
        "                           'name_label': friend['first_name'] + '\\n' + friend['last_name'],\n",
        "                           'sex': sex, \n",
        "                           'byear': byear,\n",
        "                           'id' : friend['id'],\n",
        "                           'city': friend.get('city', {}).get('title', ''),\n",
        "                           'country': friend.get('country', {}).get('title', ''),\n",
        "                           'faculty_name': friend.get('faculty_name', ''), \n",
        "                           'university_name': friend.get('university_name', '')\n",
        "                           })\n",
        "        friends_list.append(friend_new)\n",
        "      \n",
        "    return friends_list"
      ],
      "execution_count": null,
      "outputs": []
    },
    {
      "cell_type": "code",
      "metadata": {
        "colab": {
          "base_uri": "https://localhost:8080/"
        },
        "id": "4FauCWYXNXFJ",
        "outputId": "6f688ddb-2ccc-4a75-f17d-8a98b71dd33b"
      },
      "source": [
        "my_friends_list = get_friends_list()\n",
        "my_friends_names = [friend['name'] for friend in my_friends_list]\n",
        "my_friends_list[23]"
      ],
      "execution_count": null,
      "outputs": [
        {
          "output_type": "execute_result",
          "data": {
            "text/plain": [
              "{'byear': '',\n",
              " 'city': 'Москва',\n",
              " 'country': 'Россия',\n",
              " 'faculty_name': 'Физический факультет',\n",
              " 'id': 26663918,\n",
              " 'name': 'Светик Пантелеева',\n",
              " 'name_label': 'Светик\\nПантелеева',\n",
              " 'sex': 'ж',\n",
              " 'university_name': 'МГУ'}"
            ]
          },
          "metadata": {
            "tags": []
          },
          "execution_count": 5
        }
      ]
    },
    {
      "cell_type": "markdown",
      "metadata": {
        "id": "TzYWDnLHRHZr"
      },
      "source": [
        "Finging friends connections to make edges for our graph and save file with these edges"
      ]
    },
    {
      "cell_type": "code",
      "metadata": {
        "id": "1_1WR1qSRGud"
      },
      "source": [
        "from google.colab import files\n",
        "\n",
        "#collect friends of friends\n",
        "def save_friends_edges(main_friends_list):\n",
        "    \"\"\"\n",
        "    Collects friends of friends of main user, makes edges for graph of friends \n",
        "    connections, find number of mutual friends to set edges attributes, \n",
        "    save these edges and edges attributes to .txt files, find number of friends\n",
        "    and update main_friends_list to make new node attribute\n",
        "\n",
        "    Start this function only if you're not already have file with edges\n",
        "\n",
        "    Parameters\n",
        "    ----------\n",
        "      main_friends_list: list of dicts\n",
        "        list of dicts of information about friends\n",
        "\n",
        "    Returns\n",
        "    -------\n",
        "      saves files with edges and edges attributes\n",
        "    \"\"\"\n",
        "    friends_connections = [] # list of tuples\n",
        "    main_friends_ids = [friend['id'] for friend in main_friends_list]\n",
        "    list_num_mutfr = [] # for edge attributes \n",
        "    main_friends_list_new = [] #with new attribute number of friends\n",
        "\n",
        "    for friend in main_friends_list:\n",
        "      this_friend_friends = get_friends_list(user_id=friend['id'])\n",
        "      for friend_friend in this_friend_friends:\n",
        "        edge = tuple(sorted([friend['name'], friend_friend['name']]))\n",
        "        if (friend_friend['id'] in main_friends_ids and \n",
        "            edge not in friends_connections and \n",
        "            friend_friend['name'] != 'Ира\\nЮрьева'):\n",
        "          friends_connections.append(edge)\n",
        "          list_num_mutfr.append(len(vk.friends.getMutual(source_uid=friend['id'],\n",
        "                                                         target_uid=friend_friend['id'])))\n",
        "      friend.update({'n_friends': len(this_friend_friends)})\n",
        "      main_friends_list_new.append(friend)\n",
        "    \n",
        "    main_friends_list = main_friends_list_new\n",
        "\n",
        "    with open('friends_edges.txt', 'w') as f:\n",
        "        f.write('\\n'.join('%s %s' % x for x in friends_connections))\n",
        "\n",
        "    with open('friends_edges_attributes.txt', 'w') as f:\n",
        "        f.write('\\n'.join('%s' % x for x in list_num_mutfr))"
      ],
      "execution_count": null,
      "outputs": []
    },
    {
      "cell_type": "code",
      "metadata": {
        "id": "LH_E6g1mcVar"
      },
      "source": [
        "file_with_edges = False #change to True if you already have files \n",
        "\n",
        "if not file_with_edges:\n",
        "  save_friends_edges(my_friends_list)"
      ],
      "execution_count": null,
      "outputs": []
    },
    {
      "cell_type": "code",
      "metadata": {
        "colab": {
          "base_uri": "https://localhost:8080/"
        },
        "id": "CisV67-iPKHW",
        "outputId": "2ef862fb-7aa2-4900-a702-ef965ee373bf"
      },
      "source": [
        "my_friends_list[11]"
      ],
      "execution_count": null,
      "outputs": [
        {
          "output_type": "execute_result",
          "data": {
            "text/plain": [
              "{'byear': '1989',\n",
              " 'city': 'Новосибирск',\n",
              " 'country': 'Россия',\n",
              " 'faculty_name': '',\n",
              " 'id': 11581630,\n",
              " 'n_friends': 1725,\n",
              " 'name': 'Светлана Вечкапова',\n",
              " 'name_label': 'Светлана\\nВечкапова',\n",
              " 'sex': 'ж',\n",
              " 'university_name': ''}"
            ]
          },
          "metadata": {
            "tags": []
          },
          "execution_count": 8
        }
      ]
    },
    {
      "cell_type": "markdown",
      "metadata": {
        "id": "VFi70MipHvKe"
      },
      "source": [
        "\n",
        "\n",
        "---\n",
        "\n",
        "Open file"
      ]
    },
    {
      "cell_type": "code",
      "metadata": {
        "id": "8O713xgM6-7z"
      },
      "source": [
        "with open('friends_edges.txt') as f:\n",
        "  raw_edges = f.readlines()\n",
        "\n",
        "with open('friends_edges_attributes.txt') as f:\n",
        "  edges_attrs = f.readlines()"
      ],
      "execution_count": null,
      "outputs": []
    },
    {
      "cell_type": "code",
      "metadata": {
        "id": "hBQHdsWRAKrY"
      },
      "source": [
        "edges = []\n",
        "\n",
        "for r_edge in raw_edges:\n",
        "  line = r_edge.split(' ')\n",
        "  edge = (line[0] + ' ' + line[1], line[2] + ' ' + line[3][:len(line[3])-1])\n",
        "  edges.append(edge)\n",
        "\n",
        "edges_attrs = [int(attr) for attr in edges_attrs]\n"
      ],
      "execution_count": null,
      "outputs": []
    },
    {
      "cell_type": "code",
      "metadata": {
        "colab": {
          "base_uri": "https://localhost:8080/"
        },
        "id": "HOUu68nP7JI5",
        "outputId": "4624164f-592f-43ba-9ddb-4f09b1b466d8"
      },
      "source": [
        "edges[:10]"
      ],
      "execution_count": null,
      "outputs": [
        {
          "output_type": "execute_result",
          "data": {
            "text/plain": [
              "[('Елена Григорьева', 'Елена Кальнеус'),\n",
              " ('Анна Самосекова', 'Елена Кальнеус'),\n",
              " ('Елена Кальнеус', 'Татьяна Анискова'),\n",
              " ('Елена Кальнеус', 'Мария Попова'),\n",
              " ('Артём Романов', 'Елена Кальнеус'),\n",
              " ('Артем Шеболтасов', 'Елена Кальнеус'),\n",
              " ('Наталья Загорулько', 'Юлия Юрьева'),\n",
              " ('Дмитрий Овечкин', 'Наталья Загорулько'),\n",
              " ('Елена Григорьева', 'Марина Волкова'),\n",
              " ('Анна Самосекова', 'Елена Григорьева')]"
            ]
          },
          "metadata": {
            "tags": []
          },
          "execution_count": 11
        }
      ]
    },
    {
      "cell_type": "markdown",
      "metadata": {
        "id": "lJAAyaZ6Bw1g"
      },
      "source": [
        "Make graph of the resulting edges"
      ]
    },
    {
      "cell_type": "code",
      "metadata": {
        "id": "Z5nEetTB7ktP"
      },
      "source": [
        "import networkx as nx"
      ],
      "execution_count": null,
      "outputs": []
    },
    {
      "cell_type": "code",
      "metadata": {
        "id": "Lp4J_q5cGRSN"
      },
      "source": [
        "edges_attributes = [{'mut_friends': num} for num in edges_attrs]\n",
        "edges_attributes = zip(edges, edges_attributes)\n",
        "edges_attributes = dict(edges_attributes)"
      ],
      "execution_count": null,
      "outputs": []
    },
    {
      "cell_type": "code",
      "metadata": {
        "id": "VnDhI3VTDce-"
      },
      "source": [
        "friends_attributes = zip(my_friends_names, my_friends_list)\n",
        "friends_attributes = dict(friends_attributes)"
      ],
      "execution_count": null,
      "outputs": []
    },
    {
      "cell_type": "code",
      "metadata": {
        "colab": {
          "base_uri": "https://localhost:8080/"
        },
        "id": "960uAiNRCD7Q",
        "outputId": "b6979078-7912-4408-a03c-749eab75fb58"
      },
      "source": [
        "G = nx.Graph()\n",
        "G.add_nodes_from(friends_attributes)\n",
        "nx.set_node_attributes(G, friends_attributes)\n",
        "G.add_edges_from(edges)\n",
        "nx.set_edge_attributes(G, edges_attributes)\n",
        "list(G.nodes())[:10]"
      ],
      "execution_count": null,
      "outputs": [
        {
          "output_type": "execute_result",
          "data": {
            "text/plain": [
              "['Елена Кальнеус',\n",
              " 'Марина Юрьева',\n",
              " 'Наталья Загорулько',\n",
              " 'Елена Григорьева',\n",
              " 'Марина Волкова',\n",
              " 'Мария Бармасова',\n",
              " 'Алёна Захрямина',\n",
              " 'Александр Хижик',\n",
              " 'Анна Самосекова',\n",
              " 'Антон Наумов']"
            ]
          },
          "metadata": {
            "tags": []
          },
          "execution_count": 15
        }
      ]
    },
    {
      "cell_type": "code",
      "metadata": {
        "colab": {
          "base_uri": "https://localhost:8080/"
        },
        "id": "1fwUrN6eCmLW",
        "outputId": "b3b8ef91-7bac-4caa-b4cf-0200aa46a9fd"
      },
      "source": [
        "len(G.nodes())"
      ],
      "execution_count": null,
      "outputs": [
        {
          "output_type": "execute_result",
          "data": {
            "text/plain": [
              "159"
            ]
          },
          "metadata": {
            "tags": []
          },
          "execution_count": 16
        }
      ]
    },
    {
      "cell_type": "code",
      "metadata": {
        "colab": {
          "base_uri": "https://localhost:8080/"
        },
        "id": "lYnRRCmNIH04",
        "outputId": "e68dc6a6-8d17-440f-ef40-f57bfb9c78a8"
      },
      "source": [
        "G.nodes['Марина Юрьева']"
      ],
      "execution_count": null,
      "outputs": [
        {
          "output_type": "execute_result",
          "data": {
            "text/plain": [
              "{'byear': '1986',\n",
              " 'city': 'Hartford',\n",
              " 'country': 'США',\n",
              " 'faculty_name': 'Факультет биоинженерии и биоинформатики',\n",
              " 'id': 2233480,\n",
              " 'n_friends': 121,\n",
              " 'name': 'Марина Юрьева',\n",
              " 'name_label': 'Марина\\nЮрьева',\n",
              " 'sex': 'ж',\n",
              " 'university_name': 'МГУ'}"
            ]
          },
          "metadata": {
            "tags": []
          },
          "execution_count": 17
        }
      ]
    },
    {
      "cell_type": "code",
      "metadata": {
        "colab": {
          "base_uri": "https://localhost:8080/"
        },
        "id": "Bg-HOJfeFunj",
        "outputId": "3ed9d9c5-441b-47a2-a9b0-64aec414db86"
      },
      "source": [
        "G['Надежда Рухляда']['Ольга Апальчук']['mut_friends']"
      ],
      "execution_count": null,
      "outputs": [
        {
          "output_type": "execute_result",
          "data": {
            "text/plain": [
              "23"
            ]
          },
          "metadata": {
            "tags": []
          },
          "execution_count": 18
        }
      ]
    },
    {
      "cell_type": "code",
      "metadata": {
        "id": "AyoHIg1mHHmM"
      },
      "source": [
        "nx.write_gexf(G, \"friends_graph.gexf\")"
      ],
      "execution_count": null,
      "outputs": []
    },
    {
      "cell_type": "code",
      "metadata": {
        "id": "Mp77ivLEQNvp"
      },
      "source": [
        ""
      ],
      "execution_count": null,
      "outputs": []
    }
  ]
}